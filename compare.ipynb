{
 "cells": [
  {
   "cell_type": "code",
   "execution_count": 1,
   "metadata": {
    "scrolled": false
   },
   "outputs": [],
   "source": [
    "import numpy as np\n",
    "import pandas as pd\n",
    "import os\n",
    "import tensorflow as tf\n",
    "from tensorflow.keras import Sequential\n",
    "from keras.layers import Conv2D, MaxPooling2D, Activation, Dropout, Flatten, Dense\n",
    "from keras.callbacks import EarlyStopping \n",
    "from sklearn.model_selection import train_test_split \n",
    "from tensorflow.keras.preprocessing.image import ImageDataGenerator\n",
    "from keras import models\n",
    "from keras import layers\n",
    "from tensorflow.keras.applications import resnet\n",
    "from keras.models import *\n",
    "from keras.layers import *\n",
    "import keras\n",
    "from tensorflow import keras\n",
    "from keras import optimizers\n",
    "optimizer=keras.optimizers.RMSprop(learning_rate=0.01)\n",
    "import warnings\n",
    "import matplotlib.pyplot as plt\n",
    "import cv2\n",
    "from tensorflow.keras.applications.vgg19 import VGG19\n",
    "from keras.applications.inception_v3 import InceptionV3, preprocess_input\n",
    "from sklearn.metrics import classification_report\n",
    "import time\n",
    "from sklearn.metrics import precision_recall_curve\n",
    "from sklearn.metrics import roc_curve\n",
    "from sklearn.metrics import auc"
   ]
  },
  {
   "cell_type": "code",
   "execution_count": 2,
   "metadata": {},
   "outputs": [
    {
     "data": {
      "text/html": [
       "<div>\n",
       "<style scoped>\n",
       "    .dataframe tbody tr th:only-of-type {\n",
       "        vertical-align: middle;\n",
       "    }\n",
       "\n",
       "    .dataframe tbody tr th {\n",
       "        vertical-align: top;\n",
       "    }\n",
       "\n",
       "    .dataframe thead th {\n",
       "        text-align: right;\n",
       "    }\n",
       "</style>\n",
       "<table border=\"1\" class=\"dataframe\">\n",
       "  <thead>\n",
       "    <tr style=\"text-align: right;\">\n",
       "      <th></th>\n",
       "      <th>Image_Path</th>\n",
       "      <th>Labels</th>\n",
       "    </tr>\n",
       "  </thead>\n",
       "  <tbody>\n",
       "    <tr>\n",
       "      <th>0</th>\n",
       "      <td>dataset/cell_images/cell_images/Parasitized/C1...</td>\n",
       "      <td>parasitized</td>\n",
       "    </tr>\n",
       "    <tr>\n",
       "      <th>1</th>\n",
       "      <td>dataset/cell_images/cell_images/Parasitized/C1...</td>\n",
       "      <td>parasitized</td>\n",
       "    </tr>\n",
       "    <tr>\n",
       "      <th>2</th>\n",
       "      <td>dataset/cell_images/cell_images/Parasitized/C1...</td>\n",
       "      <td>parasitized</td>\n",
       "    </tr>\n",
       "    <tr>\n",
       "      <th>3</th>\n",
       "      <td>dataset/cell_images/cell_images/Parasitized/C1...</td>\n",
       "      <td>parasitized</td>\n",
       "    </tr>\n",
       "    <tr>\n",
       "      <th>4</th>\n",
       "      <td>dataset/cell_images/cell_images/Parasitized/C1...</td>\n",
       "      <td>parasitized</td>\n",
       "    </tr>\n",
       "  </tbody>\n",
       "</table>\n",
       "</div>"
      ],
      "text/plain": [
       "                                          Image_Path       Labels\n",
       "0  dataset/cell_images/cell_images/Parasitized/C1...  parasitized\n",
       "1  dataset/cell_images/cell_images/Parasitized/C1...  parasitized\n",
       "2  dataset/cell_images/cell_images/Parasitized/C1...  parasitized\n",
       "3  dataset/cell_images/cell_images/Parasitized/C1...  parasitized\n",
       "4  dataset/cell_images/cell_images/Parasitized/C1...  parasitized"
      ]
     },
     "execution_count": 2,
     "metadata": {},
     "output_type": "execute_result"
    }
   ],
   "source": [
    "def data_prep(parasitized,uninfected):\n",
    "\n",
    "    parasitized= [\"dataset/cell_images/cell_images/Parasitized\" + '/' +  parasitize for parasitize in parasitized]\n",
    "    uninfected= [\"dataset/cell_images/cell_images/Uninfected\" + '/' +  uninfect for uninfect in uninfected]\n",
    "\n",
    "    labels = len(parasitized)*['parasitized'] + len(uninfected)*['uninfected']\n",
    "    data = parasitized + uninfected\n",
    "\n",
    "    return pd.DataFrame({'Image_Path': data , 'Labels': labels})\n",
    "\n",
    "\n",
    "df = data_prep(os.listdir('dataset/cell_images/cell_images/Parasitized/'), os.listdir('dataset/cell_images/cell_images/Uninfected/'))\n",
    "df.head()"
   ]
  },
  {
   "cell_type": "code",
   "execution_count": 3,
   "metadata": {},
   "outputs": [
    {
     "name": "stdout",
     "output_type": "stream",
     "text": [
      "['Parasitized', 'Uninfected']\n"
     ]
    }
   ],
   "source": [
    "print(os.listdir(\"dataset/cell_images/cell_images/\"))"
   ]
  },
  {
   "cell_type": "code",
   "execution_count": 4,
   "metadata": {},
   "outputs": [
    {
     "name": "stderr",
     "output_type": "stream",
     "text": [
      "D:\\anaconda\\lib\\site-packages\\keras_preprocessing\\image\\dataframe_iterator.py:279: UserWarning: Found 2 invalid image filename(s) in x_col=\"Image_Path\". These filename(s) will be ignored.\n",
      "  warnings.warn(\n"
     ]
    },
    {
     "name": "stdout",
     "output_type": "stream",
     "text": [
      "Found 13503 validated image filenames belonging to 2 classes.\n",
      "Found 2480 validated image filenames belonging to 2 classes.\n"
     ]
    }
   ],
   "source": [
    "train, test = train_test_split(df, test_size = .30)\n",
    "\n",
    "img_datagen = ImageDataGenerator(rotation_range=10,\n",
    "            width_shift_range=0.2, \n",
    "            height_shift_range=0.2,\n",
    "            zoom_range=0.2, \n",
    "            horizontal_flip=True,\n",
    "            fill_mode='nearest',\n",
    "            brightness_range=[0.2,1.2], \n",
    "            validation_split=0.3)\n",
    "\n",
    "x_train =  img_datagen.flow_from_dataframe(dataframe = train,  x_col='Image_Path', y_col='Labels',  class_mode='binary',target_size=(64,64), shuffle=False, batch_size=10, seed=10, subset='training')\n",
    "x_test = img_datagen.flow_from_dataframe(dataframe = test,  x_col='Image_Path', y_col='Labels',class_mode='binary',  target_size=(64,64), shuffle=False, batch_size=10, seed=10, subset='validation')\n",
    "y_test =  x_test.labels\n",
    "\n",
    "                               \n",
    "                               \n",
    "my_callbacks = [\n",
    "    #tf.keras.callbacks.EarlyStopping(patience=5),\n",
    "    #tf.keras.callbacks.ModelCheckpoint(filepath='model.{epoch:02d}-{val_loss:.2f}.h5'),\n",
    "]"
   ]
  },
  {
   "cell_type": "code",
   "execution_count": 5,
   "metadata": {},
   "outputs": [
    {
     "name": "stdout",
     "output_type": "stream",
     "text": [
      "Found 19291 validated image filenames belonging to 2 classes.\n"
     ]
    },
    {
     "name": "stderr",
     "output_type": "stream",
     "text": [
      "D:\\anaconda\\lib\\site-packages\\keras_preprocessing\\image\\dataframe_iterator.py:279: UserWarning: Found 2 invalid image filename(s) in x_col=\"Image_Path\". These filename(s) will be ignored.\n",
      "  warnings.warn(\n"
     ]
    }
   ],
   "source": [
    "x_train_full =  img_datagen.flow_from_dataframe(dataframe = df,  x_col='Image_Path', y_col='Labels',  class_mode='binary',target_size=(64,64), shuffle=False, batch_size=10, seed=10, subset='training')"
   ]
  },
  {
   "cell_type": "markdown",
   "metadata": {},
   "source": [
    "# ResNet50"
   ]
  },
  {
   "cell_type": "code",
   "execution_count": 6,
   "metadata": {},
   "outputs": [],
   "source": [
    "loaded_resnet = load_model(\"resnet.pkl\")"
   ]
  },
  {
   "cell_type": "code",
   "execution_count": 10,
   "metadata": {},
   "outputs": [
    {
     "data": {
      "text/plain": [
       "array([[ 879,  327],\n",
       "       [  24, 1250]], dtype=int64)"
      ]
     },
     "execution_count": 10,
     "metadata": {},
     "output_type": "execute_result"
    }
   ],
   "source": [
    "y_pred = loaded_resnet.predict(x_test)\n",
    "for i in range(0,2480,1):\n",
    "    if y_pred[i] >= 0.5:\n",
    "        y_pred[i]=int(1)\n",
    "    else:\n",
    "        y_pred[i]=int(0)\n",
    "from sklearn.metrics import confusion_matrix\n",
    "confusion_matrix(y_test, y_pred)"
   ]
  },
  {
   "cell_type": "code",
   "execution_count": 7,
   "metadata": {},
   "outputs": [
    {
     "name": "stdout",
     "output_type": "stream",
     "text": [
      "Time:  1 164.66752290725708\n"
     ]
    }
   ],
   "source": [
    "from datetime import datetime\n",
    "import time\n",
    "time_array=[]\n",
    "number=[]\n",
    "for i in range (0,1,1):\n",
    "    start = time.time()\n",
    "    y_train_full_pred = loaded_resnet.predict(x_train_full)\n",
    "    end = time.time()\n",
    "    time_taken = end - start\n",
    "    print('Time: ',i+1,time_taken) \n",
    "    time_array.append(float(time_taken))\n",
    "    number.append(i+1)"
   ]
  },
  {
   "cell_type": "markdown",
   "metadata": {},
   "source": [
    "# InceptionV3"
   ]
  },
  {
   "cell_type": "code",
   "execution_count": 8,
   "metadata": {},
   "outputs": [],
   "source": [
    "loaded_inception = load_model(\"inception.pkl\")"
   ]
  },
  {
   "cell_type": "code",
   "execution_count": 13,
   "metadata": {},
   "outputs": [
    {
     "data": {
      "text/plain": [
       "array([[1080,  126],\n",
       "       [  42, 1232]], dtype=int64)"
      ]
     },
     "execution_count": 13,
     "metadata": {},
     "output_type": "execute_result"
    }
   ],
   "source": [
    "y_pred = loaded_inception.predict(x_test)\n",
    "for i in range(0,2480,1):\n",
    "    if y_pred[i] >= 0.5:\n",
    "        y_pred[i]=int(1)\n",
    "    else:\n",
    "        y_pred[i]=int(0)\n",
    "from sklearn.metrics import confusion_matrix\n",
    "confusion_matrix(y_test, y_pred)"
   ]
  },
  {
   "cell_type": "code",
   "execution_count": 9,
   "metadata": {},
   "outputs": [
    {
     "name": "stdout",
     "output_type": "stream",
     "text": [
      "Time:  299.3272397518158\n"
     ]
    }
   ],
   "source": [
    "from datetime import datetime\n",
    "time_array=[]\n",
    "number=[]\n",
    "for i in range (0,1,1):\n",
    "    start = time.time()\n",
    "    y_train_full_pred = loaded_inception.predict(x_train_full)\n",
    "    end = time.time()\n",
    "    time_taken = end - start\n",
    "    print('Time: ',time_taken) \n",
    "    time_array.append(float(time_taken))\n",
    "    number.append(i+1)"
   ]
  },
  {
   "cell_type": "markdown",
   "metadata": {},
   "source": [
    "# Stacked CNN"
   ]
  },
  {
   "cell_type": "code",
   "execution_count": 15,
   "metadata": {},
   "outputs": [],
   "source": [
    "loaded_stacked = load_model(\"stacked.pkl\")"
   ]
  },
  {
   "cell_type": "code",
   "execution_count": 16,
   "metadata": {},
   "outputs": [
    {
     "data": {
      "text/plain": [
       "array([[1068,  138],\n",
       "       [ 142, 1132]], dtype=int64)"
      ]
     },
     "execution_count": 16,
     "metadata": {},
     "output_type": "execute_result"
    }
   ],
   "source": [
    "y_pred = loaded_stacked.predict(x_test)\n",
    "for i in range(0,2480,1):\n",
    "    if y_pred[i] >= 0.5:\n",
    "        y_pred[i]=int(1)\n",
    "    else:\n",
    "        y_pred[i]=int(0)\n",
    "from sklearn.metrics import confusion_matrix\n",
    "confusion_matrix(y_test, y_pred)"
   ]
  },
  {
   "cell_type": "code",
   "execution_count": 21,
   "metadata": {},
   "outputs": [
    {
     "name": "stdout",
     "output_type": "stream",
     "text": [
      "Time:  1 78.16479682922363\n",
      "Time:  2 76.69586443901062\n",
      "Time:  3 76.31507635116577\n"
     ]
    }
   ],
   "source": [
    "from datetime import datetime\n",
    "time_array=[]\n",
    "number=[]\n",
    "for i in range (0,3,1):\n",
    "    start = time.time()\n",
    "    y_train_full_pred = loaded_stacked.predict(x_train_full)\n",
    "    end = time.time()\n",
    "    time_taken = end - start\n",
    "    print('Time: ',i+1,time_taken) \n",
    "    time_array.append(float(time_taken))\n",
    "    number.append(i+1)"
   ]
  },
  {
   "cell_type": "markdown",
   "metadata": {},
   "source": [
    "# DS CNN"
   ]
  },
  {
   "cell_type": "code",
   "execution_count": 10,
   "metadata": {},
   "outputs": [],
   "source": [
    "loaded_custom = load_model(\"custom.pkl\")"
   ]
  },
  {
   "cell_type": "code",
   "execution_count": 19,
   "metadata": {},
   "outputs": [
    {
     "data": {
      "text/plain": [
       "array([[1066,  140],\n",
       "       [  47, 1227]], dtype=int64)"
      ]
     },
     "execution_count": 19,
     "metadata": {},
     "output_type": "execute_result"
    }
   ],
   "source": [
    "y_pred = loaded_custom.predict(x_test)\n",
    "for i in range(0,2480,1):\n",
    "    if y_pred[i] >= 0.5:\n",
    "        y_pred[i]=int(1)\n",
    "    else:\n",
    "        y_pred[i]=int(0)\n",
    "from sklearn.metrics import confusion_matrix\n",
    "confusion_matrix(y_test, y_pred)"
   ]
  },
  {
   "cell_type": "code",
   "execution_count": 11,
   "metadata": {},
   "outputs": [
    {
     "name": "stdout",
     "output_type": "stream",
     "text": [
      "Time:  1 44.978179931640625\n"
     ]
    }
   ],
   "source": [
    "from datetime import datetime\n",
    "time_array=[]\n",
    "number=[]\n",
    "for i in range (0,1,1):\n",
    "    start = time.time()\n",
    "    y_train_full_pred = loaded_custom.predict(x_train_full)\n",
    "    end = time.time()\n",
    "    time_taken = end - start\n",
    "    print('Time: ',i+1,time_taken) \n",
    "    time_array.append(float(time_taken))\n",
    "    number.append(i+1)"
   ]
  },
  {
   "cell_type": "code",
   "execution_count": null,
   "metadata": {},
   "outputs": [],
   "source": []
  }
 ],
 "metadata": {
  "kernelspec": {
   "display_name": "Python 3",
   "language": "python",
   "name": "python3"
  },
  "language_info": {
   "codemirror_mode": {
    "name": "ipython",
    "version": 3
   },
   "file_extension": ".py",
   "mimetype": "text/x-python",
   "name": "python",
   "nbconvert_exporter": "python",
   "pygments_lexer": "ipython3",
   "version": "3.8.5"
  }
 },
 "nbformat": 4,
 "nbformat_minor": 5
}
